{
 "cells": [
  {
   "cell_type": "code",
   "execution_count": 1,
   "metadata": {
    "collapsed": true
   },
   "outputs": [],
   "source": [
    "from bs4 import BeautifulSoup as bs\n",
    "import pandas as pd"
   ]
  },
  {
   "cell_type": "markdown",
   "metadata": {},
   "source": [
    "### Load Dataframe"
   ]
  },
  {
   "cell_type": "code",
   "execution_count": 6,
   "metadata": {},
   "outputs": [],
   "source": [
    "filename = 'Sex141ThreadData.csv'\n",
    "df = pd.read_csv(filename)"
   ]
  },
  {
   "cell_type": "markdown",
   "metadata": {},
   "source": [
    "### Create Dataframe"
   ]
  },
  {
   "cell_type": "code",
   "execution_count": 68,
   "metadata": {
    "collapsed": true
   },
   "outputs": [],
   "source": [
    "df_columns = ['USER', 'DATE', 'TYPE', 'VALUE', 'COMMENT']\n",
    "all_thread_info = []\n",
    "def create_dataframe(): return pd.DataFrame(all_thread_info, columns = df_columns)"
   ]
  },
  {
   "cell_type": "markdown",
   "metadata": {},
   "source": [
    "### Parse Ratings Log"
   ]
  },
  {
   "cell_type": "code",
   "execution_count": 100,
   "metadata": {
    "collapsed": true
   },
   "outputs": [],
   "source": [
    "def get_bs_object(html): return bs(html, 'lxml')\n",
    "def get_ratings_entries(ratings_log):\n",
    "    parsed_entries = []\n",
    "    if not pd.isnull(ratings_log):\n",
    "        ratings_log_bs = get_bs_object(ratings_log)\n",
    "        ratings_entries = ratings_log_bs.find_all('tr')\n",
    "        if ratings_entries:\n",
    "            for entry in ratings_entries:\n",
    "                entry_values = [col.text.strip('\\xa0') for col in entry.find_all('td')]\n",
    "                parsed_entries.append(entry_values)\n",
    "    return parsed_entries"
   ]
  },
  {
   "cell_type": "code",
   "execution_count": 101,
   "metadata": {},
   "outputs": [],
   "source": [
    "values_df = pd.DataFrame([], index=pd.MultiIndex(levels=[[], []], labels=[[], []]), columns = df_columns)\n",
    "for i in range(len(df)):\n",
    "    thread_id = df.loc[i, \"URL\"][50:55]\n",
    "    ratings_entries = get_ratings_entries(df.loc[i, \"RATINGS LOG\"])\n",
    "    for j in range(len(ratings_entries)):\n",
    "        values_df.loc[(thread_id, j), :] = ratings_entries[j]"
   ]
  },
  {
   "cell_type": "code",
   "execution_count": 107,
   "metadata": {},
   "outputs": [],
   "source": [
    "values_df.to_csv('ThreadRatingLogs.csv')"
   ]
  }
 ],
 "metadata": {
  "kernelspec": {
   "display_name": "Python [conda root]",
   "language": "python",
   "name": "conda-root-py"
  },
  "language_info": {
   "codemirror_mode": {
    "name": "ipython",
    "version": 3
   },
   "file_extension": ".py",
   "mimetype": "text/x-python",
   "name": "python",
   "nbconvert_exporter": "python",
   "pygments_lexer": "ipython3",
   "version": "3.5.3"
  }
 },
 "nbformat": 4,
 "nbformat_minor": 2
}
