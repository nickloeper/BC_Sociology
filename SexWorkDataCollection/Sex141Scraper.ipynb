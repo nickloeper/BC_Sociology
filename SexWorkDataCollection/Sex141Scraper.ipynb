{
 "cells": [
  {
   "cell_type": "code",
   "execution_count": 33,
   "metadata": {},
   "outputs": [],
   "source": [
    "from bs4 import BeautifulSoup as bs\n",
    "import requests as rq"
   ]
  },
  {
   "cell_type": "code",
   "execution_count": 45,
   "metadata": {},
   "outputs": [],
   "source": [
    "def extract_thread_url(thread): return thread.findAll('a')[0]['href']"
   ]
  },
  {
   "cell_type": "code",
   "execution_count": 42,
   "metadata": {
    "collapsed": true
   },
   "outputs": [],
   "source": [
    "def fetch_thread_html(thread_url):\n",
    "    try:\n",
    "        return rq.get(thread_url).text\n",
    "    except requests.exceptions.RequestException as e:\n",
    "        print (e)"
   ]
  },
  {
   "cell_type": "code",
   "execution_count": 49,
   "metadata": {
    "collapsed": true
   },
   "outputs": [],
   "source": [
    "def get_bs_object(html): return bs(html, 'lxml')"
   ]
  },
  {
   "cell_type": "code",
   "execution_count": 48,
   "metadata": {},
   "outputs": [],
   "source": [
    "def open_html_file(file_name): return open(file_name)"
   ]
  },
  {
   "cell_type": "code",
   "execution_count": 53,
   "metadata": {
    "collapsed": true
   },
   "outputs": [],
   "source": [
    "def get_page_title_html(soup_html): return soup_html.findAll('td', { 'class' : 'f_title' })"
   ]
  },
  {
   "cell_type": "code",
   "execution_count": 74,
   "metadata": {
    "collapsed": true
   },
   "outputs": [],
   "source": [
    "def get_fieldset_rows(soup_html): return soup_html.findAll('tr')"
   ]
  },
  {
   "cell_type": "code",
   "execution_count": 83,
   "metadata": {
    "collapsed": true
   },
   "outputs": [],
   "source": [
    "def get_row_cols(row): return [col for col in row.findAll('td')]"
   ]
  },
  {
   "cell_type": "code",
   "execution_count": 84,
   "metadata": {},
   "outputs": [
    {
     "data": {
      "text/plain": [
       "[<td>  Acceptance</td>, <td>  <b>+1</b></td>, <td>  Woaw!</td>]"
      ]
     },
     "execution_count": 84,
     "metadata": {},
     "output_type": "execute_result"
    }
   ],
   "source": [
    "html_page = get_bs_object(open_html_file('eforum/forumdisplay.php_fid=13_page=1.html'))\n",
    "thread_titles = get_page_title_html(html_page)\n",
    "thread_urls = extract_thread_urls(thread_titles)\n",
    "thread_bs_html = get_bs_object(fetch_thread_html(thread_urls[4]))\n",
    "fieldset = thread_bs_html.find('fieldset')\n",
    "fieldset_rows = get_fieldset_rows(fieldset)\n",
    "cols = get_row_cols(fieldset_rows[0])\n",
    "cols[-3:]"
   ]
  },
  {
   "cell_type": "code",
   "execution_count": null,
   "metadata": {
    "collapsed": true
   },
   "outputs": [],
   "source": []
  }
 ],
 "metadata": {
  "kernelspec": {
   "display_name": "Python [conda root]",
   "language": "python",
   "name": "conda-root-py"
  },
  "language_info": {
   "codemirror_mode": {
    "name": "ipython",
    "version": 3
   },
   "file_extension": ".py",
   "mimetype": "text/x-python",
   "name": "python",
   "nbconvert_exporter": "python",
   "pygments_lexer": "ipython3",
   "version": "3.5.3"
  }
 },
 "nbformat": 4,
 "nbformat_minor": 2
}
