{
 "cells": [
  {
   "cell_type": "code",
   "execution_count": 389,
   "metadata": {
    "collapsed": true
   },
   "outputs": [],
   "source": [
    "from bs4 import BeautifulSoup as bs\n",
    "import requests as rq\n",
    "import pandas as pd\n",
    "import glob\n",
    "import re"
   ]
  },
  {
   "cell_type": "markdown",
   "metadata": {},
   "source": [
    "### DataFrame Setup"
   ]
  },
  {
   "cell_type": "code",
   "execution_count": 428,
   "metadata": {
    "collapsed": true
   },
   "outputs": [],
   "source": [
    "df_columns = ['FORUM TITLE', 'THREAD TITLE', 'THREAD AUTHOR', 'REPLIES', 'VIEWS', 'URL', 'METADATA', 'DATE', 'BODY']\n",
    "all_thread_info = []\n",
    "def create_dataframe(): return pd.DataFrame(all_thread_info, columns = df_columns)"
   ]
  },
  {
   "cell_type": "markdown",
   "metadata": {},
   "source": [
    "### Load/Parse HTML Files"
   ]
  },
  {
   "cell_type": "code",
   "execution_count": 431,
   "metadata": {
    "collapsed": true
   },
   "outputs": [],
   "source": [
    "html_files = glob.glob('eforum/*.html')\n",
    "\n",
    "def fetch_thread_html(thread_url):\n",
    "    try:\n",
    "        return get_bs_object(rq.get(thread_url).text)\n",
    "    except requests.exceptions.RequestException as e:\n",
    "        print (e)\n",
    "        \n",
    "def get_bs_object(html): return bs(html, 'lxml')\n",
    "\n",
    "def open_html_file(file_name): return open(file_name)"
   ]
  },
  {
   "cell_type": "markdown",
   "metadata": {},
   "source": [
    "### Helper Functions"
   ]
  },
  {
   "cell_type": "code",
   "execution_count": 334,
   "metadata": {
    "collapsed": true
   },
   "outputs": [],
   "source": [
    "def strip_newlines(string): return string.replace('\\n', '')"
   ]
  },
  {
   "cell_type": "markdown",
   "metadata": {},
   "source": [
    "### BeautifulSoup Parsing"
   ]
  },
  {
   "cell_type": "code",
   "execution_count": 424,
   "metadata": {},
   "outputs": [],
   "source": [
    "def extract_thread_urls(thread): return thread.findAll('a')[0]['href']\n",
    "def get_thread_tables(soup_html): return soup_html.find('form').findAll('table')\n",
    "def get_thread_row_columns(row): return row.findAll('td')\n",
    "def find_thread_table_partition(thread_tables):\n",
    "    for i in range(len(thread_tables)):\n",
    "        thread_cat_partitions = thread_tables[i].find('tr', {'class': 'category'})\n",
    "        if thread_cat_partitions != None:\n",
    "            if len(thread_cat_partitions.findAll(text='Threads')) > 0:\n",
    "                return i\n",
    "def extract_thread_table_info(thread_table):\n",
    "    thread_url = thread_table.find('td', {'class': 'f_title'}).a['href'] or ''\n",
    "    title = strip_newlines(thread_table.find('td', {'class': 'f_title'}).text) or ''\n",
    "    author = thread_table.find('td', {'class': 'f_author'}).text.split('\\n')[1] or ''\n",
    "    views_and_replies = strip_newlines(thread_table.find('td', {'class': 'f_views'}).text) or ''\n",
    "    replies, views = views_and_replies.split('/')\n",
    "    return [title, author, replies, views, thread_url]\n",
    "def get_forum_title(html): return html.find('tr', {'class': 'header'}).tr.td.text\n",
    "def extract_user_info(thread_html):\n",
    "    user_info = thread_html.find('td', {'class': 't_user'})\n",
    "    if user_info == None:\n",
    "        return ''\n",
    "    else:\n",
    "        metadata = user_info.find('div', {'class': 'smalltxt'}).text\n",
    "        return metadata\n",
    "def extract_post_date(thread_html):\n",
    "    date_col = thread_html.find('table', {'class': 't_msg'})\n",
    "    if date_col == None:\n",
    "        return ''\n",
    "    else:\n",
    "        return strip_newlines(str(date_col.tr.td.div.findAll('div')[1].next)[9:])\n",
    "def extract_post_body(thread_html):\n",
    "    body = thread_html.find('table', {'class': 't_msg'})\n",
    "    if body == None:\n",
    "        return ''\n",
    "    else:\n",
    "        return body.findAll('div')[5].text       "
   ]
  },
  {
   "cell_type": "markdown",
   "metadata": {},
   "source": [
    "### Main"
   ]
  },
  {
   "cell_type": "code",
   "execution_count": 429,
   "metadata": {},
   "outputs": [
    {
     "name": "stdout",
     "output_type": "stream",
     "text": [
      "1 / 2 DONE\n",
      "2 / 2 DONE\n"
     ]
    }
   ],
   "source": [
    "count = 0\n",
    "for html_file in html_files:\n",
    "    html_page = get_bs_object(open_html_file(html_file))\n",
    "    forum_title = get_forum_title(html_page)\n",
    "    thread_tables = get_thread_tables(html_page)\n",
    "    partition = find_thread_table_partition(thread_tables)\n",
    "    filtered_thread_tables = thread_tables[partition:]\n",
    "    for thread_table in filtered_thread_tables:\n",
    "        thread_info = extract_thread_table_info(thread_table)\n",
    "        thread_html = fetch_thread_html(thread_info[-1])\n",
    "        thread_info.append(extract_user_info(thread_html))\n",
    "        thread_info.append(extract_post_date(thread_html))\n",
    "        thread_info.append(extract_post_body(thread_html))\n",
    "        all_thread_info.append([forum_title] + thread_info)\n",
    "    count += 1\n",
    "    print (count, '/', len(html_files), 'DONE')\n",
    "df = create_dataframe()"
   ]
  },
  {
   "cell_type": "code",
   "execution_count": 430,
   "metadata": {
    "collapsed": true
   },
   "outputs": [],
   "source": [
    "df.to_csv('Sex141ThreadData.csv')"
   ]
  }
 ],
 "metadata": {
  "kernelspec": {
   "display_name": "Python [conda root]",
   "language": "python",
   "name": "conda-root-py"
  },
  "language_info": {
   "codemirror_mode": {
    "name": "ipython",
    "version": 3
   },
   "file_extension": ".py",
   "mimetype": "text/x-python",
   "name": "python",
   "nbconvert_exporter": "python",
   "pygments_lexer": "ipython3",
   "version": "3.5.3"
  }
 },
 "nbformat": 4,
 "nbformat_minor": 2
}
